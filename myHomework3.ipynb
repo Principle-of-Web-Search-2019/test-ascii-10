{
 "cells": [
  {
   "cell_type": "code",
   "execution_count": 197,
   "metadata": {},
   "outputs": [],
   "source": [
    "from IPython.core.display import HTML\n",
    "import jieba\n",
    "\n",
    "class SearcherIIndex():\n",
    "    \"\"\"倒排索引文本搜索实现类\n",
    "    \n",
    "    用倒排索引\n",
    "    利用Python的集合运算，来实现候选结果集之间交、并运算\n",
    "    \n",
    "    Attributes:\n",
    "        index: 检索使用的倒排索引\n",
    "        max_id: 当前索引的文档最大ID\n",
    "        doc_list: 索引文档原文\n",
    "    \"\"\"\n",
    "    def __init__(self, docs_file): \n",
    "        \"\"\"初始化，用文件中的文本行构建倒排索引\n",
    "        \n",
    "        Args:\n",
    "            docs_file:包含带索引文档(文本)的文件名\n",
    "            \n",
    "        \"\"\"\n",
    "        self.index = dict()    \n",
    "        self.max_id = 0\n",
    "        self.doc_list = [] \n",
    "        \n",
    "        with open(docs_file, 'r') as f:\n",
    "            docs_data = f.read()\n",
    "        \n",
    "        for doc in docs_data.split():\n",
    "            self.add_doc(doc)\n",
    "\n",
    "    def add_doc(self, doc):\n",
    "        \"\"\"向索引中添加新文档\n",
    "        \n",
    "        Args:\n",
    "            doc:待检索的文档(文本)\n",
    "        \n",
    "        Returns:\n",
    "            新增文档ID\n",
    "        \"\"\"\n",
    "        self.doc_list.append(doc)\n",
    "        for term in list(jieba.cut_for_search(doc)):\n",
    "            #构建和更新各Term对应的Posting(集合)\n",
    "            if term in self.index: \n",
    "                self.index[term].add(self.max_id)\n",
    "            else:\n",
    "                self.index[term] = set([self.max_id])\n",
    "        self.max_id += 1\n",
    "        return self.max_id - 1\n",
    "    \n",
    "    def word_match(self, word):\n",
    "        \"\"\"从倒排索引中获取包含word的候选文档ID集合\n",
    "        \n",
    "        Args:\n",
    "            word:待检索的词(短语)\n",
    "            \n",
    "        Returns：\n",
    "            包含待检索词(短语)的文档ID集合\n",
    "        \"\"\"\n",
    "        result = None\n",
    "        for term in list(jieba.cut(word)):\n",
    "            if result is None:\n",
    "                result = self.index.get(term, set())\n",
    "            else:\n",
    "                result = result & self.index.get(term, set())\n",
    "        if result is None:\n",
    "            result = set()\n",
    "        return result\n",
    "\n",
    "    def conv_query(self, query):\n",
    "        \"\"\"将用户的查询转换成用eval可运行、返回结果ID集合的代码段\n",
    "        \n",
    "        Args:\n",
    "            query:待转换的原始查询字符串\n",
    "        \n",
    "        Returns:\n",
    "            转换完成可通过eval执行返回ID集合的代码段字符串\n",
    "        \"\"\"\n",
    "        query_new_parts = []\n",
    "        all_parts = list(jieba.cut(query))\n",
    "        idx = 0\n",
    "        cache = '' #缓存变量，用于回收分词过程被切开的短语片段\n",
    "        count_parts = len(all_parts)\n",
    "        while idx < count_parts:\n",
    "            if all_parts[idx] == '(' or all_parts[idx] == ')':\n",
    "                query_new_parts.append(all_parts[idx])\n",
    "            elif all_parts[idx] == ' ':\n",
    "                query_new_parts.append(' ')\n",
    "            elif all_parts[idx] in ('and', 'AND', '+'):\n",
    "                query_new_parts.append('&')\n",
    "            elif all_parts[idx] in ('or', 'OR'):\n",
    "                query_new_parts.append('|')\n",
    "            elif all_parts[idx] in ('not', 'NOT', '-'):\n",
    "                query_new_parts.append('-')\n",
    "            elif (idx + 1 < count_parts #被分词切开的短语部分回收至缓存\n",
    "                  and all_parts[idx+1] not in (' ', ')')): \n",
    "                cache += all_parts[idx]\n",
    "            elif (idx + 2 < count_parts #处理词间空格的形式\n",
    "                  and all_parts[idx+1] == \" \" \n",
    "                  and all_parts[idx+2] not in ('(', ')', 'and', 'AND', '+', 'or', 'OR', 'NOT', 'not', '+', '-', ' ')): \n",
    "                query_new_parts.append(\"self.word_match('{}') & \".format(all_parts[idx]))\n",
    "                idx += 2\n",
    "                continue\n",
    "            else:\n",
    "                query_new_parts.append(\"self.word_match('{}')\".format(cache + all_parts[idx]))\n",
    "                cache = '' #合并完成清空缓存\n",
    "            idx += 1\n",
    "        query_new = ''.join(query_new_parts)\n",
    "        return query_new\n",
    "\n",
    "    def highlighter(self, doc, word):\n",
    "        \"\"\"用word对doc进行HTML高亮\n",
    "        \n",
    "        Args:\n",
    "            doc:需要高亮的文档\n",
    "            word:要进行高亮的关键词(查询)\n",
    "            \n",
    "        Returns:\n",
    "            返回对关键词(查询)进行高亮的文档\n",
    "        \"\"\"\n",
    "        for part in list(jieba.cut(word)):\n",
    "            #TODO(CHG):短语高亮需要先分词\n",
    "            if part not in ('(', ')', 'and', 'AND', 'or', 'OR', 'NOT', 'not', ' '):\n",
    "                doc = doc.replace(part, '<span style=\"color:red\">{}</span>'.format(part))\n",
    "        return doc\n",
    "\n",
    "    def search(self, query):\n",
    "        \"\"\"用query进行查询返回结果文档列表\n",
    "        \n",
    "        Args:\n",
    "            query:用户的(复合)布尔查询字符串\n",
    "            \n",
    "        Returns:\n",
    "            复合查询要求的(高亮)文档结果列表\n",
    "        \"\"\"\n",
    "        result = []\n",
    "        query_new = self.conv_query(query)\n",
    "        print(query_new)\n",
    "        for did in eval(query_new):\n",
    "            result.append(self.highlighter(self.doc_list[did], query))\n",
    "        return result"
   ]
  },
  {
   "cell_type": "code",
   "execution_count": 219,
   "metadata": {},
   "outputs": [],
   "source": [
    "import string\n",
    "class SearcherIIndexVII(SearcherIIndex):\n",
    "    #判断ch是否和英文字母，数字等属于同一类字符\n",
    "    def noNeedToBeCut(self,ch):\n",
    "        return ch in string.ascii_letters \\\n",
    "                    or ch.isdigit() \\\n",
    "                    or ch in ('-', ':', '.')\n",
    "    \n",
    "    #自定义字串解析方式，中文一类，英文数字'-',':','.'一类，' ','(',')'一类\n",
    "    def preProcessStr(self,str):\n",
    "        result = []\n",
    "        state_last = ''\n",
    "        cache = ''\n",
    "        for c in str:\n",
    "            state_c = self.noNeedToBeCut(c)\n",
    "            if c in (' ','(',')'):\n",
    "                if cache:\n",
    "                    result.append(cache)\n",
    "                result.append(c)\n",
    "                cache = ''\n",
    "                state_last = '' \n",
    "            else:\n",
    "                if state_c == state_last:\n",
    "                    cache += c\n",
    "                else:\n",
    "                    if state_last!='':\n",
    "                        result.append(cache)\n",
    "                    cache = c\n",
    "                state_last = state_c\n",
    "        if cache:\n",
    "            result.append(cache)\n",
    "        return result\n",
    "    \n",
    "    #解析文档，将非英文类的词语使用cut_for_search分开\n",
    "    def parse_doc(self,doc):\n",
    "        result = []\n",
    "        for x in self.preProcessStr(doc):\n",
    "            if x==' ':\n",
    "                result.append(' ')\n",
    "            else:\n",
    "                if self.noNeedToBeCut(x[0]):\n",
    "                    result.append(x)\n",
    "                else:\n",
    "                    result.extend(list(jieba.cut_for_search(x)))\n",
    "        return result\n",
    "    \n",
    "    #建立倒排索引\n",
    "    def add_doc(self, doc):\n",
    "        self.doc_list.append(doc)\n",
    "        for term in self.parse_doc(doc):\n",
    "            #构建和更新各Term对应的Posting(集合)\n",
    "            if term in self.index:\n",
    "                self.index[term].add(self.max_id)\n",
    "            else:\n",
    "                self.index[term] = set([self.max_id])\n",
    "        self.max_id += 1\n",
    "        return self.max_id - 1\n",
    "    \n",
    "    def word_match(self, word,flagCut):\n",
    "        result=None\n",
    "        if flagCut:\n",
    "            for term in list(jieba.cut(word)):\n",
    "                if result==None:\n",
    "                    result = self.index.get(term, set())\n",
    "                else:\n",
    "                    result=result&self.index.get(term, set())\n",
    "        else:\n",
    "            result = self.index.get(word, set())\n",
    "        if result==None:\n",
    "            result=set()\n",
    "        return result\n",
    "    \n",
    "    #解析查询语句，如果有中文词语，则使用cut分词\n",
    "    def conv_query(self, query):\n",
    "        query_new_parts = []\n",
    "        all_parts = self.preProcessStr(query)\n",
    "        idx = 0\n",
    "        while idx < len(all_parts):\n",
    "            if all_parts[idx] == '(' or all_parts[idx] == ')':\n",
    "                query_new_parts.append(all_parts[idx])\n",
    "            elif all_parts[idx] == ' ':\n",
    "                query_new_parts.append(' ')\n",
    "            elif all_parts[idx] in ('and', 'AND','&'):\n",
    "                query_new_parts.append('&')\n",
    "            elif all_parts[idx] in ('or', 'OR','|'):\n",
    "                query_new_parts.append('|')\n",
    "            elif all_parts[idx] in ('not', 'NOT','-'):\n",
    "                query_new_parts.append('-')\n",
    "            else:\n",
    "                if self.noNeedToBeCut(all_parts[idx][0]):\n",
    "                    query_new_parts.append(\"self.word_match('{}',False)\".format(all_parts[idx]))\n",
    "                else:\n",
    "                    query_new_parts.append(\"self.word_match('{}',True)\".format(all_parts[idx]))\n",
    "            idx += 1\n",
    "            \n",
    "        #判断query_new_parts中的' '是否需要替换成and，未解决连续空格问题\n",
    "        for i in range(1,len(query_new_parts)-1):\n",
    "            if query_new_parts[i]==' ':\n",
    "                if not (query_new_parts[i-1] in ['(',')','&','|','-'] or \n",
    "                        query_new_parts[i+1] in ['(',')','&','|','-']):\n",
    "                    query_new_parts[i]='&'\n",
    "                    \n",
    "        query_new = ''.join(query_new_parts)\n",
    "        return query_new"
   ]
  },
  {
   "cell_type": "code",
   "execution_count": 220,
   "metadata": {},
   "outputs": [],
   "source": [
    "searcher=SearcherIIndexVII('tiles.txt')"
   ]
  },
  {
   "cell_type": "code",
   "execution_count": 255,
   "metadata": {},
   "outputs": [],
   "source": [
    "query='Mate30 or 3-0'"
   ]
  },
  {
   "cell_type": "code",
   "execution_count": 256,
   "metadata": {},
   "outputs": [
    {
     "name": "stdout",
     "output_type": "stream",
     "text": [
      "self.word_match('Mate30',False) | self.word_match('3-0',False)\n"
     ]
    },
    {
     "data": {
      "text/html": [
       "一边倒！中国女排<span style=\"color:red\">3</span><span style=\"color:red\">-</span><span style=\"color:red\">0</span>横扫美国取七连胜"
      ],
      "text/plain": [
       "<IPython.core.display.HTML object>"
      ]
     },
     "metadata": {},
     "output_type": "display_data"
    },
    {
     "data": {
      "text/html": [
       "一边倒！中国女排<span style=\"color:red\">3</span><span style=\"color:red\">-</span><span style=\"color:red\">0</span>横扫美国取七连胜"
      ],
      "text/plain": [
       "<IPython.core.display.HTML object>"
      ]
     },
     "metadata": {},
     "output_type": "display_data"
    },
    {
     "data": {
      "text/html": [
       "怼完苹果怼三星，刚发了<span style=\"color:red\">Mate<span style=\"color:red\">3</span><span style=\"color:red\">0</span></span>的余承东依然要"
      ],
      "text/plain": [
       "<IPython.core.display.HTML object>"
      ]
     },
     "metadata": {},
     "output_type": "display_data"
    },
    {
     "data": {
      "text/html": [
       "华为<span style=\"color:red\">Mate<span style=\"color:red\">3</span><span style=\"color:red\">0</span></span>采用安卓系统"
      ],
      "text/plain": [
       "<IPython.core.display.HTML object>"
      ]
     },
     "metadata": {},
     "output_type": "display_data"
    },
    {
     "data": {
      "text/html": [
       "一边倒！中国女排<span style=\"color:red\">3</span><span style=\"color:red\">-</span><span style=\"color:red\">0</span>横扫美国取七连胜"
      ],
      "text/plain": [
       "<IPython.core.display.HTML object>"
      ]
     },
     "metadata": {},
     "output_type": "display_data"
    },
    {
     "data": {
      "text/html": [
       "可安装谷歌GMS！华为<span style=\"color:red\">Mate<span style=\"color:red\">3</span><span style=\"color:red\">0</span></span>确认支持Boo"
      ],
      "text/plain": [
       "<IPython.core.display.HTML object>"
      ]
     },
     "metadata": {},
     "output_type": "display_data"
    },
    {
     "data": {
      "text/html": [
       "巴黎<span style=\"color:red\">3</span><span style=\"color:red\">-</span><span style=\"color:red\">0</span>"
      ],
      "text/plain": [
       "<IPython.core.display.HTML object>"
      ]
     },
     "metadata": {},
     "output_type": "display_data"
    },
    {
     "data": {
      "text/html": [
       "iPhone11和华为<span style=\"color:red\">Mate<span style=\"color:red\">3</span><span style=\"color:red\">0</span></span>拍照对比：差距"
      ],
      "text/plain": [
       "<IPython.core.display.HTML object>"
      ]
     },
     "metadata": {},
     "output_type": "display_data"
    },
    {
     "data": {
      "text/html": [
       "一边倒！中国女排<span style=\"color:red\">3</span><span style=\"color:red\">-</span><span style=\"color:red\">0</span>横扫美国取七连胜"
      ],
      "text/plain": [
       "<IPython.core.display.HTML object>"
      ]
     },
     "metadata": {},
     "output_type": "display_data"
    },
    {
     "data": {
      "text/html": [
       "一边倒！中国女排<span style=\"color:red\">3</span><span style=\"color:red\">-</span><span style=\"color:red\">0</span>横扫美国取七连胜"
      ],
      "text/plain": [
       "<IPython.core.display.HTML object>"
      ]
     },
     "metadata": {},
     "output_type": "display_data"
    },
    {
     "data": {
      "text/html": [
       "怼完苹果怼三星，刚发了<span style=\"color:red\">Mate<span style=\"color:red\">3</span><span style=\"color:red\">0</span></span>的余承东依然要"
      ],
      "text/plain": [
       "<IPython.core.display.HTML object>"
      ]
     },
     "metadata": {},
     "output_type": "display_data"
    },
    {
     "data": {
      "text/html": [
       "碾压！中国女排<span style=\"color:red\">3</span><span style=\"color:red\">-</span><span style=\"color:red\">0</span>横扫日本"
      ],
      "text/plain": [
       "<IPython.core.display.HTML object>"
      ]
     },
     "metadata": {},
     "output_type": "display_data"
    },
    {
     "data": {
      "text/html": [
       "华为<span style=\"color:red\">Mate<span style=\"color:red\">3</span><span style=\"color:red\">0</span></span>采用安卓系统"
      ],
      "text/plain": [
       "<IPython.core.display.HTML object>"
      ]
     },
     "metadata": {},
     "output_type": "display_data"
    },
    {
     "data": {
      "text/html": [
       "华为发布<span style=\"color:red\">Mate<span style=\"color:red\">3</span><span style=\"color:red\">0</span></span>系列手机：电池最大45<span style=\"color:red\">0</span><span style=\"color:red\">0</span>m"
      ],
      "text/plain": [
       "<IPython.core.display.HTML object>"
      ]
     },
     "metadata": {},
     "output_type": "display_data"
    },
    {
     "data": {
      "text/html": [
       "怼完苹果怼三星，刚发了<span style=\"color:red\">Mate<span style=\"color:red\">3</span><span style=\"color:red\">0</span></span>的余承东依然要"
      ],
      "text/plain": [
       "<IPython.core.display.HTML object>"
      ]
     },
     "metadata": {},
     "output_type": "display_data"
    }
   ],
   "source": [
    "for doc in searcher.search(query):\n",
    "    display(HTML(doc))"
   ]
  },
  {
   "cell_type": "code",
   "execution_count": null,
   "metadata": {},
   "outputs": [],
   "source": []
  }
 ],
 "metadata": {
  "kernelspec": {
   "display_name": "Python 3",
   "language": "python",
   "name": "python3"
  },
  "language_info": {
   "codemirror_mode": {
    "name": "ipython",
    "version": 3
   },
   "file_extension": ".py",
   "mimetype": "text/x-python",
   "name": "python",
   "nbconvert_exporter": "python",
   "pygments_lexer": "ipython3",
   "version": "3.7.3"
  }
 },
 "nbformat": 4,
 "nbformat_minor": 2
}
